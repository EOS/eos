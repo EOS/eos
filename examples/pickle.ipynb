{
 "cells": [
  {
   "cell_type": "code",
   "execution_count": 1,
   "metadata": {},
   "outputs": [],
   "source": [
    "import eos\n",
    "import pickle\n",
    "import numpy as np"
   ]
  },
  {
   "cell_type": "code",
   "execution_count": 2,
   "metadata": {},
   "outputs": [],
   "source": [
    "def _analysis__getstate__(self):\n",
    "    return {\n",
    "        'init_args': self.init_args,\n",
    "        'parameters': np.array([p.evaluate() for p in self.varied_parameters]),\n",
    "        }\n",
    "\n",
    "def _analysis__setstate__(self, state):\n",
    "    self.__init__(**state['init_args'])\n",
    "    for p, value in zip(self.varied_parameters, state['parameters']):\n",
    "        p.set(value)\n",
    "\n",
    "eos.Analysis.__getstate__ = _analysis__getstate__\n",
    "eos.Analysis.__setstate__ = _analysis__setstate__"
   ]
  },
  {
   "cell_type": "code",
   "execution_count": null,
   "metadata": {},
   "outputs": [],
   "source": [
    "eos.Parameters()['mass::b(MSbar)']\n"
   ]
  },
  {
   "cell_type": "code",
   "execution_count": null,
   "metadata": {},
   "outputs": [],
   "source": [
    "analysis = eos.Analysis(priors=[{'parameter': 'mass::b(MSbar)', 'min': 4.0, 'max': 4.2, 'type': 'uniform'}], likelihood=[])\n",
    "display(f'analysis: value of mass::b(MSbar) = {analysis.varied_parameters[0].evaluate()}, compare default value of 4.18')\n",
    "display('analysis: setting the value of mass::b(MSbar) to 4.1')\n",
    "analysis.varied_parameters[0].set(4.1)\n",
    "display(analysis)\n",
    "analysiss = pickle.dumps(analysis)\n",
    "newanalysis = pickle.loads(analysiss)\n",
    "display(newanalysis)\n",
    "display(f'newanalysis: value of mass::b(MSbar) = {newanalysis.varied_parameters[0].evaluate()}, compare default value of 4.18')"
   ]
  },
  {
   "cell_type": "code",
   "execution_count": 7,
   "metadata": {},
   "outputs": [],
   "source": [
    "class Foo:\n",
    "    def __init__(self, a, b, c):\n",
    "        print('Foo.__init__')\n",
    "        print(f'a = {a}, b = {b}, c = {c}')\n",
    "        self._args = {'a': a, 'b': b, 'c': c}\n",
    "\n",
    "    #def __getnewargs_ex__(self):\n",
    "    #    print('Foo.__getnewargs_ex__')\n",
    "    #    return (), self._args\n",
    "\n",
    "    def __getstate__(self):\n",
    "        print('Foo.__getstate__')\n",
    "        return self._args\n",
    "\n",
    "    def __setstate__(self, state):\n",
    "        print('Foo.__setstate__')\n",
    "        print(state)\n",
    "        self.__init__(**state)\n",
    "\n",
    "    def __repr__(self):\n",
    "        return f'Foo({self._args[\"a\"]}, {self._args[\"b\"]}, {self._args[\"c\"]})'"
   ]
  },
  {
   "cell_type": "code",
   "execution_count": null,
   "metadata": {},
   "outputs": [],
   "source": [
    "foo = Foo(a=None, b='foo', c=42)\n",
    "foos = pickle.dumps(foo)\n",
    "newfoo = pickle.loads(foos)\n",
    "display(newfoo)"
   ]
  },
  {
   "cell_type": "code",
   "execution_count": null,
   "metadata": {},
   "outputs": [],
   "source": [
    "af = eos.AnalysisFile(\"pyhf_corr.yaml\")\n",
    "analysis = af.analysis('WET-pyhf')"
   ]
  },
  {
   "cell_type": "code",
   "execution_count": null,
   "metadata": {},
   "outputs": [],
   "source": [
    "import copy\n",
    "analysis2 = copy.deepcopy(analysis)"
   ]
  },
  {
   "cell_type": "code",
   "execution_count": null,
   "metadata": {},
   "outputs": [],
   "source": []
  }
 ],
 "metadata": {
  "kernelspec": {
   "display_name": "master",
   "language": "python",
   "name": "python3"
  },
  "language_info": {
   "codemirror_mode": {
    "name": "ipython",
    "version": 3
   },
   "file_extension": ".py",
   "mimetype": "text/x-python",
   "name": "python",
   "nbconvert_exporter": "python",
   "pygments_lexer": "ipython3",
   "version": "3.10.12"
  }
 },
 "nbformat": 4,
 "nbformat_minor": 2
}
