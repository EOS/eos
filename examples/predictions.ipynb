{
 "cells": [
  {
   "cell_type": "code",
   "execution_count": 1,
   "metadata": {
    "scrolled": true
   },
   "outputs": [
    {
     "name": "stderr",
     "output_type": "stream",
     "text": [
      "/usr/lib/python3/dist-packages/h5py/__init__.py:36: FutureWarning: Conversion of the second argument of issubdtype from `float` to `np.floating` is deprecated. In future, it will be treated as `np.float64 == np.dtype(float).type`.\n",
      "  from ._conv import register_converters as _register_converters\n"
     ]
    }
   ],
   "source": [
    "import eos"
   ]
  },
  {
   "cell_type": "markdown",
   "metadata": {},
   "source": [
    "# Theory Predictions and their Uncertainties"
   ]
  },
  {
   "cell_type": "markdown",
   "metadata": {},
   "source": [
    "## Listing the built-in Observables"
   ]
  },
  {
   "cell_type": "code",
   "execution_count": 2,
   "metadata": {},
   "outputs": [
    {
     "data": {
      "text/html": [
       "<table>\n",
       "  <tr><th style=\"text-align:left\" colspan=2><big>Observables in (semi)leptonic $b$-hadron decays</big></th></tr>\n",
       "    <tr><th style=\"text-align:left\" colspan=2>Observables in $B\\to \\bar{D} \\ell^-\\bar\\nu$ decays</th></tr>\n",
       "      <tr><th><tt style=\"color:grey\">B->Dlnu::BR</tt></th><td style=\"text-align:left\">$$\\mathcal{B}(B\\to \\bar{D}\\ell^-\\bar\\nu)$$</td></tr>      <tr><th><tt style=\"color:grey\">B->Dlnu::dBR/dq2</tt></th><td style=\"text-align:left\">$$d\\mathcal{B}(B\\to \\bar{D}\\ell^-\\bar\\nu)/dq^2$$</td></tr>    <tr><td style=\"text-align:left\" colspan=2>The option \"l\" selects the charged lepton flavour. The option \"q\" selects the spectator quark flavour. The option \"form-factors\" selects the form factor parametrization.</td></tr>\n",
       "    <tr><th style=\"text-align:left\" colspan=2>Observables in $B\\to \\bar{D}^* \\ell^-\\bar\\nu$ decays</th></tr>\n",
       "      <tr><th><tt style=\"color:grey\">B->D^*lnu::BR</tt></th><td style=\"text-align:left\">$$\\mathcal{B}(B\\to \\bar{D}^*\\ell^-\\bar\\nu)$$</td></tr>      <tr><th><tt style=\"color:grey\">B->D^*lnu::dBR/dq2</tt></th><td style=\"text-align:left\">$$d\\mathcal{B}(B\\to \\bar{D}^*\\ell^-\\bar\\nu)/dq^2$$</td></tr>    <tr><td style=\"text-align:left\" colspan=2>The option \"l\" selects the charged lepton flavour. The option \"q\" selects the spectator quark flavour. The option \"form-factors\" selects the form factor parametrization.</td></tr>\n",
       "</table>"
      ],
      "text/plain": [
       "<eos.observable.Observables at 0x7fbedc6bd490>"
      ]
     },
     "execution_count": 2,
     "metadata": {},
     "output_type": "execute_result"
    }
   ],
   "source": [
    "eos.Observables(prefix='D', name='BR')"
   ]
  },
  {
   "cell_type": "code",
   "execution_count": 3,
   "metadata": {
    "scrolled": true
   },
   "outputs": [
    {
     "data": {
      "text/html": [
       "<table>\n",
       "<tr><th>QualifedName</th><td><tt style=\"color:grey\">B->Dlnu::BR</tt></td></tr><tr><th>Description</th><td>$$\\mathcal{B}(B\\to \\bar{D}\\ell^-\\bar\\nu)$$</td></tr><tr><th rowspan=2>Kinematic Variables</th><td>q2_min</td></tr><tr><td>q2_max</td></tr></table>"
      ],
      "text/plain": [
       "<_eos.ObservableEntry at 0x7fbedc6c0c90>"
      ]
     },
     "execution_count": 3,
     "metadata": {},
     "output_type": "execute_result"
    }
   ],
   "source": [
    "eos.Observables()['B->Dlnu::BR']"
   ]
  },
  {
   "cell_type": "markdown",
   "metadata": {},
   "source": [
    "## Constructing and Evaluating an Observable"
   ]
  },
  {
   "cell_type": "code",
   "execution_count": 4,
   "metadata": {},
   "outputs": [
    {
     "data": {
      "text/html": [
       "\n",
       "        <table>\n",
       "            <tr>\n",
       "                <th>B->Dlnu::BR</th>\n",
       "                <td>(eos.Observable)</td>\n",
       "            </tr>\n",
       "            <tr>\n",
       "                <th>current value</th>\n",
       "                <td><tt>0.023</tt></td>\n",
       "            </tr>\n",
       "        </table>"
      ],
      "text/plain": [
       "<_eos.Observable at 0x7fbedc6c0be0>"
      ]
     },
     "metadata": {},
     "output_type": "display_data"
    }
   ],
   "source": [
    "parameters = eos.Parameters.Defaults()\n",
    "kinematics = eos.Kinematics(q2_min=0.02, q2_max=11.60)\n",
    "obs = eos.Observable.make('B->Dlnu::BR', parameters, kinematics, eos.Options())\n",
    "display(obs)"
   ]
  },
  {
   "cell_type": "code",
   "execution_count": 5,
   "metadata": {},
   "outputs": [
    {
     "data": {
      "text/html": [
       "\n",
       "        <table>\n",
       "            <tr>\n",
       "                <th>B->Dlnu::BR</th>\n",
       "                <td>(eos.Observable)</td>\n",
       "            </tr>\n",
       "            <tr>\n",
       "                <th>current value</th>\n",
       "                <td><tt>0.006886</tt></td>\n",
       "            </tr>\n",
       "        </table>"
      ],
      "text/plain": [
       "<_eos.Observable at 0x7fbedc6c0818>"
      ]
     },
     "metadata": {},
     "output_type": "display_data"
    }
   ],
   "source": [
    "kinematics = eos.Kinematics(q2_min=3.17, q2_max=11.60)\n",
    "obs = eos.Observable.make('B->Dlnu::BR', parameters, kinematics, eos.Options(l='tau'))\n",
    "display(obs)"
   ]
  },
  {
   "cell_type": "markdown",
   "metadata": {},
   "source": [
    "## Estimating Theory Uncertainties"
   ]
  },
  {
   "cell_type": "code",
   "execution_count": 6,
   "metadata": {},
   "outputs": [],
   "source": [
    "analysis_args={\n",
    "    'global_options': None,\n",
    "    'priors': [\n",
    "        { 'parameter': 'B->D::alpha^f+_0@BSZ2015', 'min':  0.0, 'max':  1.0, 'type': 'uniform' },\n",
    "        { 'parameter': 'B->D::alpha^f+_1@BSZ2015', 'min': -5.0, 'max': +5.0, 'type': 'uniform' },\n",
    "        { 'parameter': 'B->D::alpha^f+_2@BSZ2015', 'min': -5.0, 'max': +5.0, 'type': 'uniform' },\n",
    "        { 'parameter': 'B->D::alpha^f0_1@BSZ2015', 'min': -5.0, 'max': +5.0, 'type': 'uniform' },\n",
    "        { 'parameter': 'B->D::alpha^f0_2@BSZ2015', 'min': -5.0, 'max': +5.0, 'type': 'uniform' }\n",
    "    ],\n",
    "    'likelihood': [\n",
    "        'B->D::f_++f_0@HPQCD2015A'\n",
    "    ]\n",
    "}\n",
    "analysis = eos.Analysis(**analysis_args)\n",
    "obs_mu  = eos.Observable.make(\n",
    "    'B->Dlnu::BR',\n",
    "    analysis.parameters,\n",
    "    eos.Kinematics(q2_min=0.02, q2_max=11.60),\n",
    "    eos.Options(**{'l':'mu', 'form-factors':'BSZ2015'})\n",
    ")\n",
    "obs_tau = eos.Observable.make(\n",
    "    'B->Dlnu::BR',\n",
    "    analysis.parameters,\n",
    "    eos.Kinematics(q2_min=3.17, q2_max=11.60),\n",
    "    eos.Options(**{'l':'tau','form-factors':'BSZ2015'})\n",
    ")\n",
    "obs_R_D = eos.Observable.make(\n",
    "    'B->Dlnu::R_D',\n",
    "    analysis.parameters,\n",
    "    eos.Kinematics(q2_min_mu=0.02, q2_min_tau=3.17, q2_max_mu=11.60, q2_max_tau=11.60),\n",
    "    eos.Options(**{'form-factors':'BSZ2015'})\n",
    ")\n",
    "observables=(obs_mu, obs_tau, obs_R_D)"
   ]
  },
  {
   "cell_type": "code",
   "execution_count": 7,
   "metadata": {},
   "outputs": [],
   "source": [
    "parameter_samples, weights, observable_samples = analysis.sample(N=5000, observables=observables)"
   ]
  },
  {
   "cell_type": "code",
   "execution_count": 8,
   "metadata": {},
   "outputs": [
    {
     "data": {
      "image/png": "[encoded data removed]",
      "text/plain": [
       "<matplotlib.figure.Figure at 0x7fbed9431400>"
      ]
     },
     "metadata": {
      "needs_background": "light"
     },
     "output_type": "display_data"
    },
    {
     "name": "stdout",
     "output_type": "stream",
     "text": [
      "B->Dlnu::BR: 0.0222 +/- 0.0018\n",
      "B->Dlnu::BR: 0.0067 +/- 0.0005\n"
     ]
    }
   ],
   "source": [
    "import matplotlib.pyplot as plt\n",
    "import numpy as np\n",
    "_, _, plot = plt.hist(observable_samples[:,0], weights=weights, bins=20, color='C0', density=True)\n",
    "_, _, plot = plt.hist(observable_samples[:,1], weights=weights, bins=20, color='C1', density=True)\n",
    "plt.show()\n",
    "print('{obs}: {mean:.4f} +/- {std:.4f}'.format(\n",
    "    obs=obs_mu.name(),\n",
    "    mean=np.average(observable_samples[:,0], weights=weights),\n",
    "    std=np.sqrt(np.var(observable_samples[:, 0]))\n",
    "))\n",
    "print('{obs}: {mean:.4f} +/- {std:.4f}'.format(\n",
    "    obs=obs_tau.name(),\n",
    "    mean=np.average(observable_samples[:,1], weights=weights),\n",
    "    std=np.sqrt(np.var(observable_samples[:, 1]))\n",
    "))"
   ]
  },
  {
   "cell_type": "code",
   "execution_count": 9,
   "metadata": {},
   "outputs": [
    {
     "data": {
      "image/png": "[encoded data removed]",
      "text/plain": [
       "<matplotlib.figure.Figure at 0x7fbed74009b0>"
      ]
     },
     "metadata": {
      "needs_background": "light"
     },
     "output_type": "display_data"
    },
    {
     "name": "stdout",
     "output_type": "stream",
     "text": [
      "R_D (manually): 0.3017 +/- 0.0065\n",
      "B->Dlnu::R_D: 0.3017 +/- 0.0065\n"
     ]
    }
   ],
   "source": [
    "import matplotlib.pyplot as plt\n",
    "_, _, plot = plt.hist([o[1] / o[0] for o in observable_samples[:]], weights=weights, bins=20, color='C2')\n",
    "_, _, plot = plt.hist(observable_samples[:,2], histtype='step',     weights=weights, bins=20, color='C3', lw=3)\n",
    "plt.show()\n",
    "print('{obs}: {mean:.4f} +/- {std:.4f}'.format(\n",
    "    obs='R_D (manually)',\n",
    "    mean=np.average([o[1] / o[0] for o in observable_samples[:]], weights=weights),\n",
    "    std=np.sqrt(np.var([o[1] / o[0] for o in observable_samples[:]]))\n",
    "))\n",
    "print('{obs}: {mean:.4f} +/- {std:.4f}'.format(\n",
    "    obs=obs_R_D.name(),\n",
    "    mean=np.average(observable_samples[:,2], weights=weights),\n",
    "    std=np.sqrt(np.var(observable_samples[:, 2]))\n",
    "))"
   ]
  }
 ],
 "metadata": {
  "kernelspec": {
   "display_name": "Python 3",
   "language": "python",
   "name": "python3"
  },
  "language_info": {
   "codemirror_mode": {
    "name": "ipython",
    "version": 3
   },
   "file_extension": ".py",
   "mimetype": "text/x-python",
   "name": "python",
   "nbconvert_exporter": "python",
   "pygments_lexer": "ipython3",
   "version": "3.6.7"
  }
 },
 "nbformat": 4,
 "nbformat_minor": 2
}
