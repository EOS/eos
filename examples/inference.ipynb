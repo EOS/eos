{
 "cells": [
  {
   "cell_type": "code",
   "execution_count": 1,
   "metadata": {
    "ExecuteTime": {
     "end_time": "2021-03-11T18:44:33.140005Z",
     "start_time": "2021-03-11T18:44:32.661817Z"
    },
    "scrolled": true
   },
   "outputs": [],
   "source": [
    "import eos\n",
    "import numpy as np"
   ]
  },
  {
   "cell_type": "markdown",
   "metadata": {},
   "source": [
    "# Parameter Inference"
   ]
  },
  {
   "cell_type": "markdown",
   "metadata": {},
   "source": [
    "## Listing the built-in Constraints"
   ]
  },
  {
   "cell_type": "code",
   "execution_count": 2,
   "metadata": {
    "ExecuteTime": {
     "end_time": "2021-03-11T18:44:33.435357Z",
     "start_time": "2021-03-11T18:44:33.141345Z"
    }
   },
   "outputs": [
    {
     "data": {
      "text/html": [
       "<table>\n",
       "<tr><th style=\"text-align:left\">Name</th><th style=\"text-align:left\">Type</th></tr><tr><td><tt style=\"color:grey\">B->D::f_++f_0@FNALMILC2015A</tt></td><td style=\"text-align:left\">MultivariateGaussian<7> (using correlation matrix)</td></tr><tr><td><tt style=\"color:grey\">B->D::f_++f_0@HPQCD2015A</tt></td><td style=\"text-align:left\">MultivariateGaussian<7> (using correlation matrix)</td></tr><tr><td><tt style=\"color:grey\">B->D::f_+@FKKM2008</tt></td><td style=\"text-align:left\">Gaussian</td></tr><tr><td><tt style=\"color:grey\">B->D^(*)::FormFactors[f_+,f_0,A_0,A_1,A_2,V,T_1,T_2,T_23]@GKvD2018</tt></td><td style=\"text-align:left\">MultivariateGaussian<measurements=33,predictions=33> (using covariance matrix)</td></tr><tr><td><tt style=\"color:grey\">B->D^(*)::FormFactors[f_+,f_0,f_T,A_0,A_1,A_2,V,T_1,T_2,T_23]@GKvD2018</tt></td><td style=\"text-align:left\">MultivariateGaussian<measurements=33,predictions=33> (using covariance matrix)</td></tr><tr><td><tt style=\"color:grey\">B->D^(*)::FormFactors[parametric,LCSRLattice]@GKvD2018</tt></td><td style=\"text-align:left\">MultivariateGaussian<measurements=33,predictions=33> (using covariance matrix)</td></tr><tr><td><tt style=\"color:grey\">B->D^(*)::FormFactors[parametric,LCSR]@GKvD2018</tt></td><td style=\"text-align:left\">MultivariateGaussian<measurements=33,predictions=33> (using covariance matrix)</td></tr><tr><td><tt style=\"color:grey\">B->D^*::A_1@FKKM2008</tt></td><td style=\"text-align:left\">Gaussian</td></tr><tr><td><tt style=\"color:grey\">B->D^*::A_1[s_max]@Fermilab-MILC-2014</tt></td><td style=\"text-align:left\">Gaussian</td></tr><tr><td><tt style=\"color:grey\">B->D^*::A_1[s_max]@HFLAV-2019</tt></td><td style=\"text-align:left\">Gaussian</td></tr><tr><td><tt style=\"color:grey\">B->D^*::A_1[s_max]@HPQCD-2017</tt></td><td style=\"text-align:left\">Gaussian</td></tr><tr><td><tt style=\"color:grey\">B->D^*::A_2@FKKM2008</tt></td><td style=\"text-align:left\">Gaussian</td></tr><tr><td><tt style=\"color:grey\">B->D^*::V@FKKM2008</tt></td><td style=\"text-align:left\">Gaussian</td></tr><tr><td><tt style=\"color:grey\">B^0->D^+e^-nu::BRs@Belle-2015A</tt></td><td style=\"text-align:left\">MultivariateGaussian<measurements=33,predictions=33> (using covariance matrix)</td></tr><tr><td><tt style=\"color:grey\">B^0->D^+l^-nu::KinematicalDistribution[w]@Belle-2015A</tt></td><td style=\"text-align:left\">MultivariateGaussian<measurements=33,predictions=33> (using covariance matrix)</td></tr><tr><td><tt style=\"color:grey\">B^0->D^+mu^-nu::BRs@Belle-2015A</tt></td><td style=\"text-align:left\">MultivariateGaussian<measurements=33,predictions=33> (using covariance matrix)</td></tr><tr><td><tt style=\"color:grey\">B_s->D_s::f_++f_0@HPQCD2019</tt></td><td style=\"text-align:left\">MultivariateGaussian<measurements=33,predictions=33> (using covariance matrix)</td></tr><tr><td><tt style=\"color:grey\">B_s->D_s^(*)::FormFactors[f_+,f_0,A_0,A_1,A_2,V,T_1,T_2,T_23]@BGJvD2019</tt></td><td style=\"text-align:left\">MultivariateGaussian<measurements=33,predictions=33> (using covariance matrix)</td></tr><tr><td><tt style=\"color:grey\">B_s->D_s^(*)::FormFactors[f_+,f_0,f_T,A_0,A_1,A_2,V,T_1,T_2,T_23]@BGJvD2019</tt></td><td style=\"text-align:left\">MultivariateGaussian<measurements=33,predictions=33> (using covariance matrix)</td></tr><tr><td><tt style=\"color:grey\">B_s->D_s^(*)::FormFactors[parametric,LCSRLattice]@GvDV2019</tt></td><td style=\"text-align:left\">MultivariateGaussian<measurements=33,predictions=33> (using covariance matrix)</td></tr><tr><td><tt style=\"color:grey\">B_s->D_s^(*)::FormFactors[parametric,LCSR]@GvDV2019</tt></td><td style=\"text-align:left\">MultivariateGaussian<measurements=33,predictions=33> (using covariance matrix)</td></tr><tr><td><tt style=\"color:grey\">B_s->D_s^*::A_1[s_max]@HPQCD-2017</tt></td><td style=\"text-align:left\">Gaussian</td></tr><tr><td><tt style=\"color:grey\">B_s->D_s^*::A_1[s_max]@HPQCD-2019</tt></td><td style=\"text-align:left\">Gaussian</td></tr></table>"
      ],
      "text/plain": [
       "<eos.constraint.Constraints at 0x7f479bf6a650>"
      ]
     },
     "execution_count": 2,
     "metadata": {},
     "output_type": "execute_result"
    }
   ],
   "source": [
    "eos.Constraints(prefix='->D')"
   ]
  },
  {
   "cell_type": "code",
   "execution_count": 3,
   "metadata": {
    "ExecuteTime": {
     "end_time": "2021-03-11T18:44:34.672559Z",
     "start_time": "2021-03-11T18:44:33.436651Z"
    }
   },
   "outputs": [
    {
     "name": "stderr",
     "output_type": "stream",
     "text": [
      "INFO:EOS:   plotting EOS observable \"B->Dlnu::dBR/dq2;l=e,q=d\"\n",
      "WARNING:matplotlib.font_manager:findfont: Font family ['serif'] not found. Falling back to DejaVu Sans.\n"
     ]
    },
    {
     "data": {
      "image/png": "[encoded data removed]",
      "text/plain": [
       "<Figure size 432x288 with 1 Axes>"
      ]
     },
     "metadata": {},
     "output_type": "display_data"
    }
   ],
   "source": [
    "plot_args = {\n",
    "    'plot': {\n",
    "        'x': { 'label': r'$q^2$', 'unit': r'$\\textnormal{GeV}^2$', 'range': [0.0, 11.63] },\n",
    "        'y': { 'label': r'$d\\mathcal{B}/dq^2$',                    'range': [0.0,  5e-3] },\n",
    "        'legend': { 'location': 'lower left' }\n",
    "    },\n",
    "    'contents': [\n",
    "        {\n",
    "            'label': r'$\\ell=e$',\n",
    "            'type': 'observable',\n",
    "            'observable': 'B->Dlnu::dBR/dq2;l=e,q=d',\n",
    "            'variable': 'q2',\n",
    "            'color': 'black',\n",
    "            'range': [0.02, 11.63],\n",
    "        },\n",
    "        {\n",
    "            'label': r'Belle 2015 $\\ell=e,\\, q=d$',\n",
    "            'type': 'constraint',\n",
    "            'color': 'C0',\n",
    "            'constraints': 'B^0->D^+e^-nu::BRs@Belle-2015A',\n",
    "            'observable': 'B->Dlnu::BR',\n",
    "            'variable': 'q2',\n",
    "            'rescale-by-width': False\n",
    "        },\n",
    "        {\n",
    "            'label': r'Belle 2015 $\\ell=\\mu,\\,q=d$',\n",
    "            'type': 'constraint',\n",
    "            'color': 'C1',\n",
    "            'constraints': 'B^0->D^+mu^-nu::BRs@Belle-2015A',\n",
    "            'observable': 'B->Dlnu::BR',\n",
    "            'variable': 'q2',\n",
    "            'rescale-by-width': False\n",
    "        },\n",
    "    ]\n",
    "}\n",
    "eos.plot.Plotter(plot_args).plot()"
   ]
  },
  {
   "cell_type": "markdown",
   "metadata": {},
   "source": [
    "## Creating the Posterior"
   ]
  },
  {
   "cell_type": "code",
   "execution_count": 4,
   "metadata": {
    "ExecuteTime": {
     "end_time": "2021-03-11T18:44:34.855702Z",
     "start_time": "2021-03-11T18:44:34.674028Z"
    }
   },
   "outputs": [
    {
     "name": "stderr",
     "output_type": "stream",
     "text": [
      "INFO:EOS:Creating analysis with 6 priors, 4 EOS-wide constraints, 2 global options, and 0 manually-entered constraints\n",
      "INFO:EOS:likelihood probably depends on 43 parameter(s) that do not appear in the prior; check prior?\n"
     ]
    }
   ],
   "source": [
    "analysis_args = {\n",
    "    'global_options': { 'form-factors': 'BSZ2015', 'model': 'CKMScan' },\n",
    "    'priors': [\n",
    "        { 'parameter': 'CKM::abs(V_cb)',           'min':  38e-3, 'max':  45e-3 , 'type': 'uniform'},\n",
    "        { 'parameter': 'B->D::alpha^f+_0@BSZ2015', 'min':  0.0,   'max':  1.0   , 'type': 'uniform'},\n",
    "        { 'parameter': 'B->D::alpha^f+_1@BSZ2015', 'min': -4.0,   'max': -1.0   , 'type': 'uniform'},\n",
    "        { 'parameter': 'B->D::alpha^f+_2@BSZ2015', 'min': +4.0,   'max': +6.0   , 'type': 'uniform'},\n",
    "        { 'parameter': 'B->D::alpha^f0_1@BSZ2015', 'min': -1.0,   'max': +2.0   , 'type': 'uniform'},\n",
    "        { 'parameter': 'B->D::alpha^f0_2@BSZ2015', 'min': -2.0,   'max':  0.0   , 'type': 'uniform'}\n",
    "    ],\n",
    "    'likelihood': [\n",
    "        'B->D::f_++f_0@HPQCD2015A',\n",
    "        'B->D::f_++f_0@FNALMILC2015A',\n",
    "        'B^0->D^+e^-nu::BRs@Belle-2015A',\n",
    "        'B^0->D^+mu^-nu::BRs@Belle-2015A'\n",
    "    ]\n",
    "}\n",
    "analysis = eos.Analysis(**analysis_args)\n",
    "analysis.parameters['CKM::abs(V_cb)'].set(42.0e-3)"
   ]
  },
  {
   "cell_type": "code",
   "execution_count": 5,
   "metadata": {
    "ExecuteTime": {
     "end_time": "2021-03-11T18:44:34.947908Z",
     "start_time": "2021-03-11T18:44:34.856871Z"
    },
    "scrolled": false
   },
   "outputs": [
    {
     "name": "stderr",
     "output_type": "stream",
     "text": [
      "INFO:EOS:Optimization goal achieved after 266 function evaluations\n"
     ]
    },
    {
     "data": {
      "text/html": [
       "<table>\n",
       "<tr><th>parameter</th><th>value</th></tr>\n",
       "<tr><td>$|V_{cb}|$</td><td>0.0419</td></tr><tr><td>B->D::alpha^f+_0@BSZ2015</td><td>0.6668</td></tr><tr><td>B->D::alpha^f+_1@BSZ2015</td><td>-2.5348</td></tr><tr><td>B->D::alpha^f+_2@BSZ2015</td><td>4.8878</td></tr><tr><td>B->D::alpha^f0_1@BSZ2015</td><td>0.2602</td></tr><tr><td>B->D::alpha^f0_2@BSZ2015</td><td>-0.8600</td></tr></table>"
      ],
      "text/plain": [
       "<eos.analysis.BestFitPoint at 0x7f47e66d5278>"
      ]
     },
     "metadata": {},
     "output_type": "display_data"
    },
    {
     "data": {
      "text/html": [
       "<table>\n",
       "<tr><th>constraint</th><th>&chi;<sup>2</sup></th><th>d.o.f.</th></tr>\n",
       "<tr><td><tt>B->D::f_++f_0@FNALMILC2015A</tt></td><td>3.4484</td><td>7</td></tr>\n",
       "<tr><td><tt>B->D::f_++f_0@HPQCD2015A</tt></td><td>3.1078</td><td>5</td></tr>\n",
       "<tr><td><tt>B^0->D^+e^-nu::BRs@Belle-2015A</tt></td><td>11.8426</td><td>10</td></tr>\n",
       "<tr><td><tt>B^0->D^+mu^-nu::BRs@Belle-2015A</tt></td><td>4.8648</td><td>10</td></tr>\n",
       "</table><br/>\n",
       "<table>\n",
       "<tr><th>total &chi;<sup>2</sup></th><td>23.2637</td></tr>\n",
       "<tr><th>total degrees of freedom</th><td>26</td></tr>\n",
       "<tr><th>p-value</th><td>61.7991%</td></tr>\n",
       "</table>\n"
      ],
      "text/plain": [
       "<_eos.GoodnessOfFit at 0x7f47e66c2bc8>"
      ]
     },
     "metadata": {},
     "output_type": "display_data"
    }
   ],
   "source": [
    "bfp = analysis.optimize()\n",
    "display(bfp)\n",
    "display(analysis.goodness_of_fit())"
   ]
  },
  {
   "cell_type": "code",
   "execution_count": 6,
   "metadata": {
    "ExecuteTime": {
     "end_time": "2021-03-11T18:45:07.832733Z",
     "start_time": "2021-03-11T18:44:34.950743Z"
    }
   },
   "outputs": [
    {
     "data": {
      "application/vnd.jupyter.widget-view+json": {
       "model_id": "7b742df2a09a4c548ade84f843e12194"
      }
     },
     "metadata": {},
     "output_type": "display_data"
    },
    {
     "name": "stderr",
     "output_type": "stream",
     "text": [
      "INFO:EOS:Prerun 0 out of 5\n",
      "INFO:EOS:Prerun 0: acceptance rate is   1%\n",
      "INFO:EOS:Prerun 1 out of 5\n",
      "INFO:EOS:Prerun 1: acceptance rate is  57%\n",
      "INFO:EOS:Prerun 2 out of 5\n",
      "INFO:EOS:Prerun 2: acceptance rate is  29%\n",
      "INFO:EOS:Prerun 3 out of 5\n",
      "INFO:EOS:Prerun 3: acceptance rate is  25%\n",
      "INFO:EOS:Prerun 4 out of 5\n",
      "INFO:EOS:Prerun 4: acceptance rate is  27%\n",
      "INFO:EOS:Main run: started ...\n"
     ]
    },
    {
     "data": {
      "application/vnd.jupyter.widget-view+json": {
       "model_id": "016c7d791753419dbc479e955da1ca73"
      }
     },
     "metadata": {},
     "output_type": "display_data"
    },
    {
     "name": "stderr",
     "output_type": "stream",
     "text": [
      "INFO:EOS:Main run: acceptance rate is  25%\n"
     ]
    }
   ],
   "source": [
    "e_q2values  = np.unique(np.concatenate((np.linspace(0.02,  1.00, 20), np.linspace(1.00, 11.60, 20))))\n",
    "e_obs       = [eos.Observable.make(\n",
    "                  'B->Dlnu::dBR/dq2', analysis.parameters, eos.Kinematics(q2=q2),\n",
    "                  eos.Options(**{'form-factors': 'BSZ2015', 'l': 'e', 'q': 'd'}))\n",
    "              for q2 in e_q2values]\n",
    "parameter_samples, log_weights, e_samples  = analysis.sample(N=20000, stride=5, pre_N=1000, preruns=5, cov_scale=0.05, start_point=bfp.point, observables=e_obs)"
   ]
  },
  {
   "cell_type": "code",
   "execution_count": 7,
   "metadata": {
    "ExecuteTime": {
     "end_time": "2021-03-11T18:45:08.128567Z",
     "start_time": "2021-03-11T18:45:07.834152Z"
    }
   },
   "outputs": [
    {
     "data": {
      "image/png": "[encoded data removed]",
      "text/plain": [
       "<Figure size 432x288 with 1 Axes>"
      ]
     },
     "metadata": {},
     "output_type": "display_data"
    }
   ],
   "source": [
    "plot_args = {\n",
    "    'plot': {\n",
    "        'x': { 'label': r'$q^2$', 'unit': r'$\\textnormal{GeV}^2$', 'range': [0.0, 11.63] },\n",
    "        'y': { 'label': r'$d\\mathcal{B}/dq^2$',                    'range': [0.0,  5e-3] },\n",
    "        'legend': { 'location': 'lower left' }\n",
    "    },\n",
    "    'contents': [\n",
    "        {\n",
    "          'label': r'$\\ell=\\mu$', 'type': 'uncertainty', 'range': [0.02, 11.60],\n",
    "          'data': { 'samples': e_samples, 'xvalues': e_q2values }\n",
    "        },\n",
    "        {\n",
    "            'label': r'Belle 2015 $\\ell=e,\\, q=d$',\n",
    "            'type': 'constraint',\n",
    "            'color': 'C0',\n",
    "            'constraints': 'B^0->D^+e^-nu::BRs@Belle-2015A',\n",
    "            'observable': 'B->Dlnu::BR',\n",
    "            'variable': 'q2',\n",
    "            'rescale-by-width': False\n",
    "        },\n",
    "        {\n",
    "            'label': r'Belle 2015 $\\ell=\\mu,\\,q=d$',\n",
    "            'type': 'constraint',\n",
    "            'color': 'C1',\n",
    "            'constraints': 'B^0->D^+mu^-nu::BRs@Belle-2015A',\n",
    "            'observable': 'B->Dlnu::BR',\n",
    "            'variable': 'q2',\n",
    "            'rescale-by-width': False\n",
    "        },\n",
    "    ]\n",
    "}\n",
    "eos.plot.Plotter(plot_args).plot()"
   ]
  },
  {
   "cell_type": "code",
   "execution_count": 8,
   "metadata": {
    "ExecuteTime": {
     "end_time": "2021-03-11T18:45:08.568158Z",
     "start_time": "2021-03-11T18:45:08.129881Z"
    }
   },
   "outputs": [
    {
     "data": {
      "image/png": "[encoded data removed]",
      "text/plain": [
       "<Figure size 432x288 with 1 Axes>"
      ]
     },
     "metadata": {},
     "output_type": "display_data"
    }
   ],
   "source": [
    "plot_args = {\n",
    "    'plot': {\n",
    "        'x': { 'label': r'$|V_{cb}|$', 'range': [38e-3, 45e-3] },\n",
    "        'legend': { 'location': 'upper left' }\n",
    "    },\n",
    "    'contents': [\n",
    "        {\n",
    "            'type': 'histogram',\n",
    "            'data': { 'samples': parameter_samples[:, 0], 'log_weights': log_weights }\n",
    "        },\n",
    "        {\n",
    "            'type': 'kde', 'color': 'C0', 'label': 'posterior', 'bandwidth': 2,\n",
    "            'range': [40e-3, 45e-3],\n",
    "            'data': { 'samples': parameter_samples[:, 0], 'log_weights': log_weights }\n",
    "        }\n",
    "    ]\n",
    "}\n",
    "eos.plot.Plotter(plot_args).plot()"
   ]
  },
  {
   "cell_type": "code",
   "execution_count": 9,
   "metadata": {
    "ExecuteTime": {
     "end_time": "2021-03-11T18:45:11.567474Z",
     "start_time": "2021-03-11T18:45:08.569547Z"
    }
   },
   "outputs": [
    {
     "data": {
      "image/png": "[encoded data removed]",
      "text/plain": [
       "<Figure size 432x288 with 1 Axes>"
      ]
     },
     "metadata": {},
     "output_type": "display_data"
    }
   ],
   "source": [
    "plot_args = {\n",
    "    'plot': {\n",
    "        'x': { 'label': r'$|V_{cb}|$', 'range': [38e-3, 47e-3] },\n",
    "        'y': { 'label': r'$f_+(0)$',   'range': [0.6, 0.75] },\n",
    "    },\n",
    "    'contents': [\n",
    "        {\n",
    "            'type': 'kde2D', 'color': 'C1', 'label': 'posterior',\n",
    "            'range': [40e-3, 45e-3], 'levels': [68, 99], 'bandwidth': 3,\n",
    "            'data': { 'samples': parameter_samples[:, (0,1)], 'log_weights': log_weights }\n",
    "        }\n",
    "    ]\n",
    "}\n",
    "eos.plot.Plotter(plot_args).plot()"
   ]
  },
  {
   "cell_type": "code",
   "execution_count": 10,
   "metadata": {
    "ExecuteTime": {
     "end_time": "2021-03-11T18:45:11.571816Z",
     "start_time": "2021-03-11T18:45:11.568693Z"
    }
   },
   "outputs": [
    {
     "name": "stdout",
     "output_type": "stream",
     "text": [
      "$|V_{cb}|$ = 0.0420 +/- 0.0009\n"
     ]
    }
   ],
   "source": [
    "print('$|V_{{cb}}|$ = {mean:.4f} +/- {std:.4f}'.format(\n",
    "    mean=np.average(parameter_samples[:,0], weights=np.exp(log_weights)),\n",
    "    std=np.sqrt(np.var(parameter_samples[:, 0]))\n",
    "))"
   ]
  }
 ],
 "metadata": {
  "kernelspec": {
   "display_name": "Python 3",
   "language": "python",
   "name": "python3"
  },
  "language_info": {
   "codemirror_mode": {
    "name": "ipython",
    "version": 3
   },
   "file_extension": ".py",
   "mimetype": "text/x-python",
   "name": "python",
   "nbconvert_exporter": "python",
   "pygments_lexer": "ipython3",
   "version": "3.6.9"
  }
 },
 "nbformat": 4,
 "nbformat_minor": 2
}
