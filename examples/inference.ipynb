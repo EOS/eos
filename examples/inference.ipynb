{
 "cells": [
  {
   "cell_type": "code",
   "execution_count": 1,
   "metadata": {
    "ExecuteTime": {
     "end_time": "2021-03-11T18:44:33.140005Z",
     "start_time": "2021-03-11T18:44:32.661817Z"
    },
    "scrolled": true
   },
   "outputs": [],
   "source": [
    "import eos"
   ]
  },
  {
   "cell_type": "markdown",
   "metadata": {},
   "source": [
    "# Parameter Inference"
   ]
  },
  {
   "cell_type": "markdown",
   "metadata": {},
   "source": [
    "EOS can infer parameters based on a database of experimental or theoetical constraints and its built-in observables.\n",
    "The examples in this notebook illustrate how to find a specific constraint from the list of all built-in observables,\n",
    "construct an ``Analysis`` object that represents the statistical analysis,\n",
    "and infer mean value and standard deviation of a list of parameters through optimization or Monte Carlo methods."
   ]
  },
  {
   "cell_type": "markdown",
   "metadata": {},
   "source": [
    "## Listing the built-in Constraints"
   ]
  },
  {
   "cell_type": "markdown",
   "metadata": {},
   "source": [
    "You can show the list of constraints using the ``Constraints`` class.  Searching for a specific constraint is possible by filtering for specific strings in the constraint name’s *prefix*, *name*, or *suffix* parts. The following example only shows constraints that contain a `'->D'` in the prefix part:"
   ]
  },
  {
   "cell_type": "code",
   "execution_count": 2,
   "metadata": {
    "ExecuteTime": {
     "end_time": "2021-03-11T18:44:33.435357Z",
     "start_time": "2021-03-11T18:44:33.141345Z"
    }
   },
   "outputs": [
    {
     "data": {
      "text/html": [
       "<table>\n",
       "<tr><th style=\"text-align:left\">Name</th><th style=\"text-align:left\">Type</th></tr><tr><td><tt style=\"color:grey\">B->D::f_++f_0@FNALMILC2015B</tt></td><td style=\"text-align:left\">MultivariateGaussian<7> (using correlation matrix)</td></tr><tr><td><tt style=\"color:grey\">B->D::f_++f_0@HPQCD2015A</tt></td><td style=\"text-align:left\">MultivariateGaussian<7> (using correlation matrix)</td></tr><tr><td><tt style=\"color:grey\">B->D::f_+@FKKM2008</tt></td><td style=\"text-align:left\">Gaussian</td></tr><tr><td><tt style=\"color:grey\">B->D^(*)::FormFactors[f_+,f_0,A_0,A_1,A_2,V,T_1,T_2,T_23]@GKvD2018</tt></td><td style=\"text-align:left\">MultivariateGaussian<measurements=33,predictions=33> (using covariance matrix)</td></tr><tr><td><tt style=\"color:grey\">B->D^(*)::FormFactors[f_+,f_0,f_T,A_0,A_1,A_2,V,T_1,T_2,T_23]@GKvD2018</tt></td><td style=\"text-align:left\">MultivariateGaussian<measurements=33,predictions=33> (using covariance matrix)</td></tr><tr><td><tt style=\"color:grey\">B->D^(*)::FormFactors[parametric,LCSRLattice]@GKvD2018</tt></td><td style=\"text-align:left\">MultivariateGaussian<measurements=33,predictions=33> (using covariance matrix)</td></tr><tr><td><tt style=\"color:grey\">B->D^(*)::FormFactors[parametric,LCSR]@GKvD2018</tt></td><td style=\"text-align:left\">MultivariateGaussian<measurements=33,predictions=33> (using covariance matrix)</td></tr><tr><td><tt style=\"color:grey\">B->D^*::A_1@FKKM2008</tt></td><td style=\"text-align:left\">Gaussian</td></tr><tr><td><tt style=\"color:grey\">B->D^*::A_1[s_max]@Fermilab-MILC-2014</tt></td><td style=\"text-align:left\">Gaussian</td></tr><tr><td><tt style=\"color:grey\">B->D^*::A_1[s_max]@HFLAV-2019</tt></td><td style=\"text-align:left\">Gaussian</td></tr><tr><td><tt style=\"color:grey\">B->D^*::A_1[s_max]@HPQCD-2017</tt></td><td style=\"text-align:left\">Gaussian</td></tr><tr><td><tt style=\"color:grey\">B->D^*::A_2@FKKM2008</tt></td><td style=\"text-align:left\">Gaussian</td></tr><tr><td><tt style=\"color:grey\">B->D^*::V@FKKM2008</tt></td><td style=\"text-align:left\">Gaussian</td></tr><tr><td><tt style=\"color:grey\">B^0->D^+e^-nu::BRs@Belle-2015A</tt></td><td style=\"text-align:left\">MultivariateGaussian<measurements=33,predictions=33> (using covariance matrix)</td></tr><tr><td><tt style=\"color:grey\">B^0->D^+l^-nu::KinematicalDistribution[w]@Belle-2015A</tt></td><td style=\"text-align:left\">MultivariateGaussian<measurements=33,predictions=33> (using covariance matrix)</td></tr><tr><td><tt style=\"color:grey\">B^0->D^+mu^-nu::BRs@Belle-2015A</tt></td><td style=\"text-align:left\">MultivariateGaussian<measurements=33,predictions=33> (using covariance matrix)</td></tr><tr><td><tt style=\"color:grey\">B_s->D_s::f_++f_0@HPQCD2019</tt></td><td style=\"text-align:left\">MultivariateGaussian<measurements=33,predictions=33> (using covariance matrix)</td></tr><tr><td><tt style=\"color:grey\">B_s->D_s^(*)::FormFactors[f_+,f_0,A_0,A_1,A_2,V,T_1,T_2,T_23]@BGJvD2019</tt></td><td style=\"text-align:left\">MultivariateGaussian<measurements=33,predictions=33> (using covariance matrix)</td></tr><tr><td><tt style=\"color:grey\">B_s->D_s^(*)::FormFactors[f_+,f_0,f_T,A_0,A_1,A_2,V,T_1,T_2,T_23]@BGJvD2019</tt></td><td style=\"text-align:left\">MultivariateGaussian<measurements=33,predictions=33> (using covariance matrix)</td></tr><tr><td><tt style=\"color:grey\">B_s->D_s^(*)::FormFactors[parametric,LCSRLattice]@GvDV2019</tt></td><td style=\"text-align:left\">MultivariateGaussian<measurements=33,predictions=33> (using covariance matrix)</td></tr><tr><td><tt style=\"color:grey\">B_s->D_s^(*)::FormFactors[parametric,LCSR]@GvDV2019</tt></td><td style=\"text-align:left\">MultivariateGaussian<measurements=33,predictions=33> (using covariance matrix)</td></tr><tr><td><tt style=\"color:grey\">B_s->D_s^*::A_1[s_max]@HPQCD-2017</tt></td><td style=\"text-align:left\">Gaussian</td></tr><tr><td><tt style=\"color:grey\">B_s->D_s^*::A_1[s_max]@HPQCD-2019</tt></td><td style=\"text-align:left\">Gaussian</td></tr></table>"
      ],
      "text/plain": [
       "<eos.constraint.Constraints at 0x7f7dbe4df880>"
      ]
     },
     "execution_count": 2,
     "metadata": {},
     "output_type": "execute_result"
    }
   ],
   "source": [
    "eos.Constraints(prefix='->D')"
   ]
  },
  {
   "cell_type": "markdown",
   "metadata": {},
   "source": [
    "## Visualizing the built-in Constraints"
   ]
  },
  {
   "cell_type": "markdown",
   "metadata": {},
   "source": [
    "For what follows we will use the two experimental constraints ``B^0->D^+e^-nu::BRs@Belle-2015A``\n",
    "and ``B^0->D^+mu^-nu::BRs@Belle-2015A``, to infer the CKM matrix element $|V_{cb}|$. We can readily\n",
    "display these two constraints, along with the default theory prediction (without any uncertainties),\n",
    "using the following code:"
   ]
  },
  {
   "cell_type": "code",
   "execution_count": 3,
   "metadata": {
    "ExecuteTime": {
     "end_time": "2021-03-11T18:44:34.672559Z",
     "start_time": "2021-03-11T18:44:33.436651Z"
    }
   },
   "outputs": [
    {
     "name": "stderr",
     "output_type": "stream",
     "text": [
      "INFO:EOS:   plotting EOS observable \"B->Dlnu::dBR/dq2;l=e,q=d\"\n",
      "WARNING:matplotlib.font_manager:findfont: Font family ['serif'] not found. Falling back to DejaVu Sans.\n"
     ]
    },
    {
     "data": {
      "image/png": "[encoded data removed]",
      "text/plain": [
       "<Figure size 432x288 with 1 Axes>"
      ]
     },
     "metadata": {
      "needs_background": "light"
     },
     "output_type": "display_data"
    }
   ],
   "source": [
    "plot_args = {\n",
    "    'plot': {\n",
    "        'x': { 'label': r'$q^2$', 'unit': r'$\\textnormal{GeV}^2$', 'range': [0.0, 11.63] },\n",
    "        'y': { 'label': r'$d\\mathcal{B}/dq^2$',                    'range': [0.0,  5e-3] },\n",
    "        'legend': { 'location': 'lower left' }\n",
    "    },\n",
    "    'contents': [\n",
    "        {\n",
    "            'label': r'$\\ell=e$',\n",
    "            'type': 'observable',\n",
    "            'observable': 'B->Dlnu::dBR/dq2;l=e,q=d',\n",
    "            'variable': 'q2',\n",
    "            'color': 'black',\n",
    "            'range': [0.02, 11.63],\n",
    "        },\n",
    "        {\n",
    "            'label': r'Belle 2015 $\\ell=e,\\, q=d$',\n",
    "            'type': 'constraint',\n",
    "            'color': 'C0',\n",
    "            'constraints': 'B^0->D^+e^-nu::BRs@Belle-2015A',\n",
    "            'observable': 'B->Dlnu::BR',\n",
    "            'variable': 'q2',\n",
    "            'rescale-by-width': False\n",
    "        },\n",
    "        {\n",
    "            'label': r'Belle 2015 $\\ell=\\mu,\\,q=d$',\n",
    "            'type': 'constraint',\n",
    "            'color': 'C1',\n",
    "            'constraints': 'B^0->D^+mu^-nu::BRs@Belle-2015A',\n",
    "            'observable': 'B->Dlnu::BR',\n",
    "            'variable': 'q2',\n",
    "            'rescale-by-width': False\n",
    "        },\n",
    "    ]\n",
    "}\n",
    "eos.plot.Plotter(plot_args).plot()"
   ]
  },
  {
   "cell_type": "markdown",
   "metadata": {},
   "source": [
    "## Defining the Statistical Analysis"
   ]
  },
  {
   "cell_type": "markdown",
   "metadata": {},
   "source": [
    "To define our statistical analysis for the inference of $|V_{cb}|$ from measurements\n",
    "of the $\\bar{B}\\to D\\ell^-\\bar\\nu$ branching ratios, some decisions are needed.\n",
    "First, we must decide how to parametrize the hadronic form factors that emerge\n",
    "in semileptonic $\\bar{B}\\to D$ transitions.\n",
    "For what follows we will use the [BSZ:2015A] parametrization.\n",
    "Next, we must decide the theory input for the form factors. For what follows we will combine the correlated lattice QCD results published by the Fermilab/MILC and HPQCD collaborations in 2015.\n",
    "\n",
    "We then create an ``Analysis`` object as follows:"
   ]
  },
  {
   "cell_type": "code",
   "execution_count": 4,
   "metadata": {
    "ExecuteTime": {
     "end_time": "2021-03-11T18:44:34.855702Z",
     "start_time": "2021-03-11T18:44:34.674028Z"
    },
    "scrolled": true
   },
   "outputs": [
    {
     "name": "stderr",
     "output_type": "stream",
     "text": [
      "INFO:EOS:Creating analysis with 6 priors, 4 EOS-wide constraints, 2 global options, and 0 manually-entered constraints\n",
      "INFO:EOS:likelihood probably depends on 43 parameter(s) that do not appear in the prior; check prior?\n"
     ]
    }
   ],
   "source": [
    "analysis_args = {\n",
    "    'global_options': { 'form-factors': 'BSZ2015', 'model': 'CKMScan' },\n",
    "    'priors': [\n",
    "        { 'parameter': 'CKM::abs(V_cb)',           'min':  38e-3, 'max':  45e-3 , 'type': 'uniform'},\n",
    "        { 'parameter': 'B->D::alpha^f+_0@BSZ2015', 'min':  0.0,   'max':  1.0   , 'type': 'uniform'},\n",
    "        { 'parameter': 'B->D::alpha^f+_1@BSZ2015', 'min': -4.0,   'max': -1.0   , 'type': 'uniform'},\n",
    "        { 'parameter': 'B->D::alpha^f+_2@BSZ2015', 'min': +4.0,   'max': +6.0   , 'type': 'uniform'},\n",
    "        { 'parameter': 'B->D::alpha^f0_1@BSZ2015', 'min': -1.0,   'max': +2.0   , 'type': 'uniform'},\n",
    "        { 'parameter': 'B->D::alpha^f0_2@BSZ2015', 'min': -2.0,   'max':  0.0   , 'type': 'uniform'}\n",
    "    ],\n",
    "    'likelihood': [\n",
    "        'B->D::f_++f_0@HPQCD2015A',\n",
    "        'B->D::f_++f_0@FNALMILC2015B',\n",
    "        'B^0->D^+e^-nu::BRs@Belle-2015A',\n",
    "        'B^0->D^+mu^-nu::BRs@Belle-2015A'\n",
    "    ]\n",
    "}\n",
    "analysis = eos.Analysis(**analysis_args)\n",
    "analysis.parameters['CKM::abs(V_cb)'].set(42.0e-3)"
   ]
  },
  {
   "cell_type": "markdown",
   "metadata": {},
   "source": [
    "In the above, the global options ensure that our choice of form factor parametrization is used throughout,\n",
    "and that for CKM matrix elements the `CKMScan` model is used. The latter provides parametric access to the\n",
    "$V_{cb}$ matrix element through two objects of type ``Parameter``:\n",
    "the absolute value ``CKM::abs(V_cb)`` and the complex phase ``CKM::arg(V_cb)``.\n",
    "The latter is not accessible from $b\\to c\\ell\\bar\\nu$.\n",
    "We provide the parameters in our analysis through the specifications of the Bayesian priors.\n",
    "In the above, each prior is by default a uniform prior that covers the range from ``min`` to ``max``.\n",
    "The likelihood is defined through a list constraints, which in the above includes both the experimental measurements by the Belle collaboration as well as the theoretical lattice QCD results.\n",
    "Finally, we set the starting value of ``CKM::abs(V_cb)`` to a sensible value of $42\\cdot 10^{-3}$."
   ]
  },
  {
   "cell_type": "markdown",
   "metadata": {},
   "source": [
    "We can now proceed to optimize the log(posterior) through a call to ``analysis.optimize``.\n",
    "In a Jupyter notebook, it is useful to display the return value of this method, which illustrates the best-fit point.\n",
    "We can further display a summary of the goodness-of-fit information."
   ]
  },
  {
   "cell_type": "code",
   "execution_count": 5,
   "metadata": {
    "ExecuteTime": {
     "end_time": "2021-03-11T18:44:34.947908Z",
     "start_time": "2021-03-11T18:44:34.856871Z"
    },
    "scrolled": true
   },
   "outputs": [
    {
     "name": "stderr",
     "output_type": "stream",
     "text": [
      "INFO:EOS:Optimization goal achieved after 266 function evaluations\n"
     ]
    },
    {
     "data": {
      "text/html": [
       "<table>\n",
       "<tr><th>parameter</th><th>value</th></tr>\n",
       "<tr><td>$|V_{cb}|$</td><td>0.0419</td></tr><tr><td>B->D::alpha^f+_0@BSZ2015</td><td>0.6668</td></tr><tr><td>B->D::alpha^f+_1@BSZ2015</td><td>-2.5348</td></tr><tr><td>B->D::alpha^f+_2@BSZ2015</td><td>4.8878</td></tr><tr><td>B->D::alpha^f0_1@BSZ2015</td><td>0.2602</td></tr><tr><td>B->D::alpha^f0_2@BSZ2015</td><td>-0.8600</td></tr></table>"
      ],
      "text/plain": [
       "<eos.analysis.BestFitPoint at 0x7f7dbe4df7b8>"
      ]
     },
     "metadata": {},
     "output_type": "display_data"
    },
    {
     "data": {
      "text/html": [
       "<table>\n",
       "<tr><th>constraint</th><th>&chi;<sup>2</sup></th><th>d.o.f.</th></tr>\n",
       "<tr><td><tt>B->D::f_++f_0@FNALMILC2015B</tt></td><td>3.4483</td><td>7</td></tr>\n",
       "<tr><td><tt>B->D::f_++f_0@HPQCD2015A</tt></td><td>3.1078</td><td>5</td></tr>\n",
       "<tr><td><tt>B^0->D^+e^-nu::BRs@Belle-2015A</tt></td><td>11.8427</td><td>10</td></tr>\n",
       "<tr><td><tt>B^0->D^+mu^-nu::BRs@Belle-2015A</tt></td><td>4.8648</td><td>10</td></tr>\n",
       "</table><br/>\n",
       "<table>\n",
       "<tr><th>total &chi;<sup>2</sup></th><td>23.2637</td></tr>\n",
       "<tr><th>total degrees of freedom</th><td>26</td></tr>\n",
       "<tr><th>p-value</th><td>61.7991%</td></tr>\n",
       "</table>\n"
      ],
      "text/plain": [
       "<_eos.GoodnessOfFit at 0x7f7dbe4dfc00>"
      ]
     },
     "metadata": {},
     "output_type": "display_data"
    }
   ],
   "source": [
    "bfp = analysis.optimize()\n",
    "display(bfp)\n",
    "display(analysis.goodness_of_fit())"
   ]
  },
  {
   "cell_type": "markdown",
   "metadata": {},
   "source": [
    "## Sampling from the Posterior"
   ]
  },
  {
   "cell_type": "markdown",
   "metadata": {},
   "source": [
    "To sample from the posterior, EOS provides the ``Analysis.sample`` method.\n",
    "Optionally, this can also produce posterior-predictive samples for a list of observables.\n",
    "We can use these samples to illustrate the results of our fit in comparison to the\n",
    "experimental constraints.\n",
    "\n",
    "For this example, we produce such posterior-predictive samples for the differential\n",
    "$\\bar{B}\\to D^+e^-\\bar\\nu$ branching ratio in 40 points in the kinematical variable\n",
    "$q^2$; the square of the momentum transfer to the $e^-\\bar\\nu$ pair.\n",
    "Due to the strong dependence of the branching ratio on $q^2$, we do not distribute the\n",
    "points equally across the full phase space. Instead, we equally distribute half of\n",
    "the points in the interval $[0.02\\,\\text{GeV}^2, 1.00\\,\\text{GeV}^2]$ and the other\n",
    "half in the remainder of the phase space.\n",
    "\n",
    "We produce ``N`` $= 20000$ samples with a thinning factor (or ``stride``) of $5$. This means\n",
    "that ``stride * N`` $= 100000$ samples are produced, but only every $5$th sample is returned.\n",
    "This improves the quality of the samples by reducing the autocorrelation.\n",
    "Before the samples are produced, the Markov Chain self-adapts in a series of preruns,\n",
    "the number of which is governed by the ``preprun`` argument. In each prerun, ``pre_N``\n",
    "samples are drawn before the adaptation step. The samples obtained as part of the\n",
    "preruns are discarded. To ensure efficient sampling, the chain is started in the\n",
    "best-fit point obtained earlier through optimization."
   ]
  },
  {
   "cell_type": "code",
   "execution_count": 6,
   "metadata": {
    "ExecuteTime": {
     "end_time": "2021-03-11T18:45:07.832733Z",
     "start_time": "2021-03-11T18:44:34.950743Z"
    },
    "scrolled": true
   },
   "outputs": [
    {
     "data": {
      "application/vnd.jupyter.widget-view+json": {
       "model_id": "",
       "version_major": 2,
       "version_minor": 0
      },
      "text/plain": [
       "HBox(children=(FloatProgress(value=0.0, description='Pre-runs', max=5.0, style=ProgressStyle(description_width…"
      ]
     },
     "metadata": {},
     "output_type": "display_data"
    },
    {
     "name": "stderr",
     "output_type": "stream",
     "text": [
      "INFO:EOS:Prerun 0 out of 5\n",
      "INFO:EOS:Prerun 0: acceptance rate is   1%\n",
      "INFO:EOS:Prerun 1 out of 5\n",
      "INFO:EOS:Prerun 1: acceptance rate is  51%\n",
      "INFO:EOS:Prerun 2 out of 5\n",
      "INFO:EOS:Prerun 2: acceptance rate is  32%\n",
      "INFO:EOS:Prerun 3 out of 5\n",
      "INFO:EOS:Prerun 3: acceptance rate is  26%\n",
      "INFO:EOS:Prerun 4 out of 5\n",
      "INFO:EOS:Prerun 4: acceptance rate is  27%\n",
      "INFO:EOS:Main run: started ...\n"
     ]
    },
    {
     "name": "stdout",
     "output_type": "stream",
     "text": [
      "\r"
     ]
    },
    {
     "data": {
      "application/vnd.jupyter.widget-view+json": {
       "model_id": "",
       "version_major": 2,
       "version_minor": 0
      },
      "text/plain": [
       "HBox(children=(FloatProgress(value=0.0, description='Main run', style=ProgressStyle(description_width='initial…"
      ]
     },
     "metadata": {},
     "output_type": "display_data"
    },
    {
     "name": "stderr",
     "output_type": "stream",
     "text": [
      "INFO:EOS:Main run: acceptance rate is  25%\n"
     ]
    },
    {
     "name": "stdout",
     "output_type": "stream",
     "text": [
      "\r"
     ]
    }
   ],
   "source": [
    "import numpy as np\n",
    "e_q2values  = np.unique(np.concatenate((np.linspace(0.02,  1.00, 20), np.linspace(1.00, 11.60, 20))))\n",
    "e_obs       = [eos.Observable.make(\n",
    "                  'B->Dlnu::dBR/dq2', analysis.parameters, eos.Kinematics(q2=q2),\n",
    "                  eos.Options(**{'form-factors': 'BSZ2015', 'l': 'e', 'q': 'd'}))\n",
    "              for q2 in e_q2values]\n",
    "parameter_samples, log_posterior, e_samples  = analysis.sample(N=20000, stride=5, pre_N=1000, preruns=5, start_point=bfp.point, observables=e_obs)"
   ]
  },
  {
   "cell_type": "markdown",
   "metadata": {},
   "source": [
    "In the above we start sampling at the best-fit point as obtained earlier through optimization,\n",
    "which is optional.\n",
    "We carry out ``preruns = 5`` burn-in runs/preruns of ``pre_N = 1000`` samples each.\n",
    "The samples obtained in each of these preruns are used to adapt the Markov chain. The prerun\n",
    "samples are discarded.\n",
    "The main run the produces a total of ``N * stride = 100000`` random Markov Chain samples.\n",
    "The latter are thinned down by a factor of ``stride = 5`` to obtain ``N = 20000`` samples,\n",
    "which are stored ``parameter_samples``. The thinning reduced the autocorrelation of the samples.\n",
    "The values of the log(posterior) are stored in ``log_weights``.\n",
    "The posterior-preditive samples for the observables are stored in ``e_samples``, and are only returned if the ``observables`` keyword argument is provided."
   ]
  },
  {
   "cell_type": "markdown",
   "metadata": {},
   "source": [
    "We can plot our result using the `uncertainty` plot type. It expects a `data` item that contains the samples as well as the x-axis values used in the production of the samples. This plot type will interpolate between neighboring x-axis values, and display the $68\\%$ probability envelope along the median curve."
   ]
  },
  {
   "cell_type": "code",
   "execution_count": 7,
   "metadata": {
    "ExecuteTime": {
     "end_time": "2021-03-11T18:45:08.128567Z",
     "start_time": "2021-03-11T18:45:07.834152Z"
    }
   },
   "outputs": [
    {
     "data": {
      "image/png": "[encoded data removed]",
      "text/plain": [
       "<Figure size 432x288 with 1 Axes>"
      ]
     },
     "metadata": {
      "needs_background": "light"
     },
     "output_type": "display_data"
    }
   ],
   "source": [
    "plot_args = {\n",
    "    'plot': {\n",
    "        'x': { 'label': r'$q^2$', 'unit': r'$\\textnormal{GeV}^2$', 'range': [0.0, 11.63] },\n",
    "        'y': { 'label': r'$d\\mathcal{B}/dq^2$',                    'range': [0.0,  5e-3] },\n",
    "        'legend': { 'location': 'lower left' }\n",
    "    },\n",
    "    'contents': [\n",
    "        {\n",
    "          'label': r'$\\ell=\\mu$', 'type': 'uncertainty', 'range': [0.02, 11.60],\n",
    "          'data': { 'samples': e_samples, 'xvalues': e_q2values }\n",
    "        },\n",
    "        {\n",
    "            'label': r'Belle 2015 $\\ell=e,\\, q=d$',\n",
    "            'type': 'constraint',\n",
    "            'color': 'C0',\n",
    "            'constraints': 'B^0->D^+e^-nu::BRs@Belle-2015A',\n",
    "            'observable': 'B->Dlnu::BR',\n",
    "            'variable': 'q2',\n",
    "            'rescale-by-width': False\n",
    "        },\n",
    "        {\n",
    "            'label': r'Belle 2015 $\\ell=\\mu,\\,q=d$',\n",
    "            'type': 'constraint',\n",
    "            'color': 'C1',\n",
    "            'constraints': 'B^0->D^+mu^-nu::BRs@Belle-2015A',\n",
    "            'observable': 'B->Dlnu::BR',\n",
    "            'variable': 'q2',\n",
    "            'rescale-by-width': False\n",
    "        },\n",
    "    ]\n",
    "}\n",
    "eos.plot.Plotter(plot_args).plot()"
   ]
  },
  {
   "cell_type": "markdown",
   "metadata": {},
   "source": [
    "The distribution of the parameter samples, here using $|V_{cb}|$ as an example, can be inspected using regular histograms or a smooth histogram based on a kernel density estimate (KDE). For the latter, the parameter ``bandwidth`` regulates the smoothing. EOS applies a relative bandwidth factor with respect to SciPy's best bandwidth estimate, i.e., specifying `'bandwidth': 2` double SciPy's estimate for the bandwidth."
   ]
  },
  {
   "cell_type": "code",
   "execution_count": 8,
   "metadata": {
    "ExecuteTime": {
     "end_time": "2021-03-11T18:45:08.568158Z",
     "start_time": "2021-03-11T18:45:08.129881Z"
    }
   },
   "outputs": [
    {
     "data": {
      "image/png": "[encoded data removed]",
      "text/plain": [
       "<Figure size 432x288 with 1 Axes>"
      ]
     },
     "metadata": {
      "needs_background": "light"
     },
     "output_type": "display_data"
    }
   ],
   "source": [
    "plot_args = {\n",
    "    'plot': {\n",
    "        'x': { 'label': r'$|V_{cb}|$', 'range': [38e-3, 45e-3] },\n",
    "        'legend': { 'location': 'upper left' }\n",
    "    },\n",
    "    'contents': [\n",
    "        {\n",
    "            'type': 'histogram',\n",
    "            'data': { 'samples': parameter_samples[:, 0] }\n",
    "        },\n",
    "        {\n",
    "            'type': 'kde', 'color': 'C0', 'label': 'posterior', 'bandwidth': 2,\n",
    "            'range': [40e-3, 45e-3],\n",
    "            'data': { 'samples': parameter_samples[:, 0] }\n",
    "        }\n",
    "    ]\n",
    "}\n",
    "eos.plot.Plotter(plot_args).plot()"
   ]
  },
  {
   "cell_type": "markdown",
   "metadata": {},
   "source": [
    "We can also illustrate the correlation between $|V_{cb}|$ and any form factor parameter. Her, we use the normalization of the form factors at $q^2 = 0$ as an example. Contours of equal probability at the $68\\%$\n",
    "and $95\\%$ levels can be generated using a KDE as follows:"
   ]
  },
  {
   "cell_type": "code",
   "execution_count": 11,
   "metadata": {
    "ExecuteTime": {
     "end_time": "2021-03-11T18:45:11.567474Z",
     "start_time": "2021-03-11T18:45:08.569547Z"
    },
    "scrolled": true
   },
   "outputs": [
    {
     "data": {
      "image/png": "[encoded data removed]",
      "text/plain": [
       "<Figure size 432x288 with 1 Axes>"
      ]
     },
     "metadata": {
      "needs_background": "light"
     },
     "output_type": "display_data"
    }
   ],
   "source": [
    "plot_args = {\n",
    "    'plot': {\n",
    "        'x': { 'label': r'$|V_{cb}|$', 'range': [38e-3, 47e-3] },\n",
    "        'y': { 'label': r'$f_+(0)$',   'range': [0.6, 0.75] },\n",
    "    },\n",
    "    'contents': [\n",
    "        {\n",
    "            'type': 'kde2D', 'color': 'C1', 'label': 'posterior',\n",
    "            'range': [40e-3, 45e-3], 'levels': [68, 95], 'bandwidth': 3,\n",
    "            'data': { 'samples': parameter_samples[:, (0,1)] }\n",
    "        }\n",
    "    ]\n",
    "}\n",
    "eos.plot.Plotter(plot_args).plot()"
   ]
  },
  {
   "cell_type": "markdown",
   "metadata": {},
   "source": [
    "Here the `bandwidth` parameter takes the same role as in the 1D histogram."
   ]
  },
  {
   "cell_type": "markdown",
   "metadata": {},
   "source": [
    "We can compute the mean value and its standard deviation using ``numpy`` methods"
   ]
  },
  {
   "cell_type": "code",
   "execution_count": 12,
   "metadata": {
    "ExecuteTime": {
     "end_time": "2021-03-11T18:45:11.571816Z",
     "start_time": "2021-03-11T18:45:11.568693Z"
    }
   },
   "outputs": [
    {
     "name": "stdout",
     "output_type": "stream",
     "text": [
      "$|V_{cb}|$ = 0.0419 +/- 0.0009\n"
     ]
    }
   ],
   "source": [
    "print('$|V_{{cb}}|$ = {mean:.4f} +/- {std:.4f}'.format(\n",
    "    mean=np.average(parameter_samples[:,0]),\n",
    "    std=np.std(parameter_samples[:, 0])\n",
    "))"
   ]
  }
 ],
 "metadata": {
  "kernelspec": {
   "display_name": "Python 3",
   "language": "python",
   "name": "python3"
  },
  "language_info": {
   "codemirror_mode": {
    "name": "ipython",
    "version": 3
   },
   "file_extension": ".py",
   "mimetype": "text/x-python",
   "name": "python",
   "nbconvert_exporter": "python",
   "pygments_lexer": "ipython3",
   "version": "3.6.8"
  }
 },
 "nbformat": 4,
 "nbformat_minor": 2
}
